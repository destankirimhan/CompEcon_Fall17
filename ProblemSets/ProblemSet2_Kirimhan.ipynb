{
 "cells": [
  {
   "cell_type": "markdown",
   "metadata": {},
   "source": [
    "# ECON 815 Problem Set \\#2"
   ]
  },
  {
   "cell_type": "markdown",
   "metadata": {},
   "source": [
    "## Destan Kirimhan"
   ]
  },
  {
   "cell_type": "markdown",
   "metadata": {},
   "source": [
    "# Question 2. Introduction to NumPy Chapter\n",
    "## Problem 1. \n",
    "### NumPy’s dot() function performs matrix multiplication. Write a function that defines the following matrices as NumPy arrays.\n",
    "\n",
    "$$\n",
    "A = \\begin{bmatrix}\n",
    "    3 & -1 & 4 & \\\\\n",
    "    1 & 5 & -9\n",
    "    \\end{bmatrix}\n",
    "$$\n",
    "\n",
    "$$\n",
    "B = \\begin{bmatrix}\n",
    "    2 & 6 & -5 & 3 \\\\\n",
    "    5 & -8 & 9 & 7\\\\\n",
    "    9 & -3 & -2 & -3\\\\\n",
    "    \\end{bmatrix}\n",
    "$$\n",
    "\n",
    "### Return the matrix product AB."
   ]
  },
  {
   "cell_type": "code",
   "execution_count": 1,
   "metadata": {
    "collapsed": true
   },
   "outputs": [],
   "source": [
    "import numpy as np"
   ]
  },
  {
   "cell_type": "code",
   "execution_count": 2,
   "metadata": {
    "collapsed": true
   },
   "outputs": [],
   "source": [
    "def matrixmult (A, B):\n",
    "    a=np.array(A)\n",
    "    b=np.array(B)\n",
    "    C=np.dot(a, b)\n",
    "    return C"
   ]
  },
  {
   "cell_type": "code",
   "execution_count": 3,
   "metadata": {
    "collapsed": true
   },
   "outputs": [],
   "source": [
    "A = [[3,-1,4],[1,5,-9]]\n",
    "B = [[2,6,-5,3],[5,-8,9,7],[9,-3,-2,-3]]"
   ]
  },
  {
   "cell_type": "code",
   "execution_count": 4,
   "metadata": {},
   "outputs": [
    {
     "data": {
      "text/plain": [
       "array([[ 37,  14, -32, -10],\n",
       "       [-54,  -7,  58,  65]])"
      ]
     },
     "execution_count": 4,
     "metadata": {},
     "output_type": "execute_result"
    }
   ],
   "source": [
    "matrixmult(A,B)"
   ]
  },
  {
   "cell_type": "markdown",
   "metadata": {},
   "source": [
    "## Problem 2. \n",
    "### Write a function that defines the following matrix as a NumPy array.\n",
    "\n",
    "$$\n",
    "A = \\begin{bmatrix}\n",
    "    3 & 1 & 4 \\\\\n",
    "    1 & 5 & 9 \\\\\n",
    "    -5 & 3 & 1 \\\\\n",
    "    \\end{bmatrix}\n",
    "$$\n",
    "\n",
    "### Return the matrix $$ \\begin{equation} -A^3 + 9A^2 -15A \\end{equation}. $$"
   ]
  },
  {
   "cell_type": "code",
   "execution_count": 5,
   "metadata": {
    "collapsed": true
   },
   "outputs": [],
   "source": [
    "def matrixpoly (A):\n",
    "    a=np.array(A)\n",
    "    A_sq=np.dot(a,a)\n",
    "    a_sq=np.array(A_sq)\n",
    "    A_cube=np.dot(a_sq,a)\n",
    "    x=-15*a\n",
    "    result=-1*A_cube + 9*A_sq -15*a\n",
    "    return result"
   ]
  },
  {
   "cell_type": "code",
   "execution_count": 6,
   "metadata": {
    "collapsed": true
   },
   "outputs": [],
   "source": [
    "A = [[3,1,4],[1,5,9],[-5,3,1]]"
   ]
  },
  {
   "cell_type": "code",
   "execution_count": 7,
   "metadata": {},
   "outputs": [
    {
     "data": {
      "text/plain": [
       "array([[0, 0, 0],\n",
       "       [0, 0, 0],\n",
       "       [0, 0, 0]])"
      ]
     },
     "execution_count": 7,
     "metadata": {},
     "output_type": "execute_result"
    }
   ],
   "source": [
    "matrixpoly(A)"
   ]
  },
  {
   "cell_type": "markdown",
   "metadata": {},
   "source": [
    "# Introduction to NumPy Chapter\n",
    "## Problem 5. \n",
    "### Write a function that defines the following matrices as NumPy arrays.\n",
    "\n",
    "$$\n",
    "A = \\begin{bmatrix}\n",
    "    0 & 2 & 4 \\\\\n",
    "    1 & 3 & 5\n",
    "    \\end{bmatrix}\n",
    "$$\n",
    "\n",
    "$$\n",
    "B = \\begin{bmatrix}\n",
    "    3 & 0 & 0 \\\\\n",
    "    3 & 3 & 0 \\\\\n",
    "    3 & 3 & 3 \\\\\n",
    "    \\end{bmatrix}\n",
    "$$\n",
    "\n",
    "$$\n",
    "C = \\begin{bmatrix}\n",
    "    -2 & 0 & 0 \\\\\n",
    "    0 & -2 & 0 \\\\\n",
    "    0 & 0 & -2 \\\\\n",
    "    \\end{bmatrix}\n",
    "$$\n",
    "\n",
    "### Use NumPy’s stacking functions to create and return the block matrix:\n",
    "\n",
    "$$\n",
    "    \\begin{bmatrix}\n",
    "    0 & A^T & I \\\\\n",
    "    A & 0 & 0 \\\\\n",
    "    B & 0 & C \\\\\n",
    "    \\end{bmatrix}\n",
    "$$\n",
    "### where I is the identity matrix of the appropriate size and each 0 is a matrix of all zeros, also of appropriate sizes."
   ]
  },
  {
   "cell_type": "code",
   "execution_count": 8,
   "metadata": {
    "collapsed": true
   },
   "outputs": [],
   "source": [
    "def matrixpoly (A,B,C):\n",
    "    a=np.array(A)\n",
    "    b=np.array(B)\n",
    "    c=np.array(C)\n",
    "    a_T=np.array(np.transpose(A))\n",
    "    I=np.eye((3), dtype=np.int)\n",
    "    z2=np.zeros((2,2), dtype=np.int)\n",
    "    z3=np.zeros((3,3), dtype=np.int)\n",
    "    z23=np.zeros((2,3), dtype=np.int)\n",
    "    z32=np.zeros((3,2), dtype=np.int)\n",
    "    result1=np.vstack((z3,a,b))\n",
    "    result2=np.vstack((a_T,z2,z32))\n",
    "    result3=np.vstack((I,z23,c))\n",
    "    result=np.hstack((result1,result2,result3))\n",
    "    return result"
   ]
  },
  {
   "cell_type": "code",
   "execution_count": 9,
   "metadata": {
    "collapsed": true
   },
   "outputs": [],
   "source": [
    "A = [[0,2,4],[1,3,5]]\n",
    "B = [[3,0,0],[3,3,0],[3,3,3]]\n",
    "C = [[-2,0,0],[0,-2,0],[0,0,-2]]"
   ]
  },
  {
   "cell_type": "code",
   "execution_count": 10,
   "metadata": {},
   "outputs": [
    {
     "data": {
      "text/plain": [
       "array([[ 0,  0,  0,  0,  1,  1,  0,  0],\n",
       "       [ 0,  0,  0,  2,  3,  0,  1,  0],\n",
       "       [ 0,  0,  0,  4,  5,  0,  0,  1],\n",
       "       [ 0,  2,  4,  0,  0,  0,  0,  0],\n",
       "       [ 1,  3,  5,  0,  0,  0,  0,  0],\n",
       "       [ 3,  0,  0,  0,  0, -2,  0,  0],\n",
       "       [ 3,  3,  0,  0,  0,  0, -2,  0],\n",
       "       [ 3,  3,  3,  0,  0,  0,  0, -2]])"
      ]
     },
     "execution_count": 10,
     "metadata": {},
     "output_type": "execute_result"
    }
   ],
   "source": [
    "matrixpoly(A,B,C)"
   ]
  },
  {
   "cell_type": "markdown",
   "metadata": {
    "collapsed": true
   },
   "source": [
    "# Question 1. Standard Library Chapter\n",
    "## Problem 1. \n",
    "### Write a function that accepts a list of numbers as input and returns a new list with the minimum, maximum, and average of the original list (\\in that order). Remember to use floating point division to calculate the average. Can you implement this function in a single line?"
   ]
  },
  {
   "cell_type": "code",
   "execution_count": 13,
   "metadata": {
    "collapsed": true
   },
   "outputs": [],
   "source": [
    "f = lambda *x: ([min(x), max(x), sum(x)/len(x)])"
   ]
  },
  {
   "cell_type": "markdown",
   "metadata": {},
   "source": [
    "### To provide an example and check if the function is working properly:"
   ]
  },
  {
   "cell_type": "code",
   "execution_count": 14,
   "metadata": {},
   "outputs": [
    {
     "data": {
      "text/plain": [
       "[1, 3.5, 2.1666666666666665]"
      ]
     },
     "execution_count": 14,
     "metadata": {},
     "output_type": "execute_result"
    }
   ],
   "source": [
    "f(1,2,3.5)"
   ]
  },
  {
   "cell_type": "markdown",
   "metadata": {
    "collapsed": true
   },
   "source": [
    "## Problem 2. \n",
    "\n",
    "### Python has several methods that seem to change immutable objects. These methods actually work by making copies of objects. We can therefore determine which object types are mutable and which are immutable by using the equal sign and “changing” the objects. \n",
    "\n",
    "### >>> dict_1 = {1: 'x', 2: 'b'}       # Create a dictionary. \n",
    "### >>> dict_2 = dict_1 # Assign it a new name.\n",
    "### >>> dict_2[1] = 'a' # Change the 'new' dictionary.\n",
    "### >>> dict_1 == dict_2 # Compare the two names.\n",
    "### True\n",
    "\n",
    "### Since altering one name altered the other, we conclude that no copy has been made and that therefore Python dictionaries are mutable. If we repeat this process with a di↵erent type and the two names are di↵erent in the end, we will know that a copy had been made and the type is immutable. Following the example given above, determine which object types are mutable and which are immutable. Use the following operations to modify each of the given types. \n",
    "\n",
    "### Print a statement of your conclusions."
   ]
  },
  {
   "cell_type": "code",
   "execution_count": 1,
   "metadata": {},
   "outputs": [
    {
     "data": {
      "text/plain": [
       "False"
      ]
     },
     "execution_count": 1,
     "metadata": {},
     "output_type": "execute_result"
    }
   ],
   "source": [
    "x=5\n",
    "y=x\n",
    "y=y+1\n",
    "x==y"
   ]
  },
  {
   "cell_type": "markdown",
   "metadata": {},
   "source": [
    "### Numbers are immutable."
   ]
  },
  {
   "cell_type": "code",
   "execution_count": 3,
   "metadata": {},
   "outputs": [
    {
     "data": {
      "text/plain": [
       "False"
      ]
     },
     "execution_count": 3,
     "metadata": {},
     "output_type": "execute_result"
    }
   ],
   "source": [
    "x='Destan'\n",
    "y=x\n",
    "y=y+'a'\n",
    "x==y"
   ]
  },
  {
   "cell_type": "markdown",
   "metadata": {},
   "source": [
    "### Strings are immutable."
   ]
  },
  {
   "cell_type": "code",
   "execution_count": 4,
   "metadata": {},
   "outputs": [
    {
     "data": {
      "text/plain": [
       "False"
      ]
     },
     "execution_count": 4,
     "metadata": {},
     "output_type": "execute_result"
    }
   ],
   "source": [
    "months = ('0','1')\n",
    "months2=months\n",
    "months2=months2 + ('1','1')\n",
    "months==months2"
   ]
  },
  {
   "cell_type": "markdown",
   "metadata": {},
   "source": [
    "### Tuples are immutable. "
   ]
  },
  {
   "cell_type": "code",
   "execution_count": 5,
   "metadata": {},
   "outputs": [
    {
     "data": {
      "text/plain": [
       "True"
      ]
     },
     "execution_count": 5,
     "metadata": {},
     "output_type": "execute_result"
    }
   ],
   "source": [
    "dict1={1: 'x', 2: 'b'}\n",
    "dict2=dict1\n",
    "dict2[1]='a'\n",
    "dict1==dict2"
   ]
  },
  {
   "cell_type": "markdown",
   "metadata": {},
   "source": [
    "### Dictionaries are mutable."
   ]
  },
  {
   "cell_type": "code",
   "execution_count": 7,
   "metadata": {},
   "outputs": [
    {
     "data": {
      "text/plain": [
       "True"
      ]
     },
     "execution_count": 7,
     "metadata": {},
     "output_type": "execute_result"
    }
   ],
   "source": [
    "L1 = [1, 2, 3]\n",
    "L2=L1\n",
    "L2.append(1)\n",
    "L1==L2"
   ]
  },
  {
   "cell_type": "markdown",
   "metadata": {},
   "source": [
    "### Lists are mutable."
   ]
  },
  {
   "cell_type": "markdown",
   "metadata": {},
   "source": [
    "## Problem 3. \n",
    "### Create a module called calculator.py. Write a function that returns the sum of two arguments, a function that returns the product of two arguments, and a function that returns the square root of a single argument. When the file is either run or imported, nothing should be executed. In your main solutions file, import your new calculator module. Using only the functions defined in the module, write a new function that calculates the length of the hypotenuse of a right triangle given the lengths of the other two sides."
   ]
  },
  {
   "cell_type": "code",
   "execution_count": 8,
   "metadata": {
    "collapsed": true
   },
   "outputs": [],
   "source": [
    "import calculator"
   ]
  },
  {
   "cell_type": "code",
   "execution_count": 9,
   "metadata": {
    "collapsed": true
   },
   "outputs": [],
   "source": [
    "run calculator.py"
   ]
  },
  {
   "cell_type": "code",
   "execution_count": 10,
   "metadata": {
    "collapsed": true
   },
   "outputs": [],
   "source": [
    "def hypo(val1, val2):\n",
    "    hypot = calculator.sq(calculator.tot(calculator.product(val1, val1), calculator.product(val2, val2)))\n",
    "    return hypot"
   ]
  },
  {
   "cell_type": "code",
   "execution_count": 11,
   "metadata": {},
   "outputs": [
    {
     "data": {
      "text/plain": [
       "5.0"
      ]
     },
     "execution_count": 11,
     "metadata": {},
     "output_type": "execute_result"
    }
   ],
   "source": [
    "hypo(3, 4)"
   ]
  },
  {
   "cell_type": "code",
   "execution_count": 12,
   "metadata": {},
   "outputs": [
    {
     "data": {
      "text/plain": [
       "13.0"
      ]
     },
     "execution_count": 12,
     "metadata": {},
     "output_type": "execute_result"
    }
   ],
   "source": [
    "hypo(5, 12)"
   ]
  },
  {
   "cell_type": "code",
   "execution_count": 13,
   "metadata": {},
   "outputs": [
    {
     "data": {
      "text/plain": [
       "25.0"
      ]
     },
     "execution_count": 13,
     "metadata": {},
     "output_type": "execute_result"
    }
   ],
   "source": [
    "hypo(7, 24)"
   ]
  },
  {
   "cell_type": "markdown",
   "metadata": {
    "collapsed": true
   },
   "source": [
    "### Calculator.py\n",
    "def product(val1, val2):\n",
    "    prod = val1 * val2\n",
    "    \n",
    "    return prod\n",
    "   \n",
    "def tot(val1, val2):\n",
    "    total = val1 + val2\n",
    "    \n",
    "    return total\n",
    "\n",
    "def sq(val1):\n",
    "    sqroot = val1 ** 0.5\n",
    "    \n",
    "    return sqroot"
   ]
  },
  {
   "cell_type": "markdown",
   "metadata": {},
   "source": [
    "# Question 3. OOP\n",
    "\n",
    "## Problem 1. Expand the Backpack class to match the following specifications.\n",
    "\n",
    "### 1. Modify the constructor so that it accepts a name, a color, and a maximum size (in that order). Make max_size a default argument with default value 5. Store each input as an attribute. \n",
    "### 2. Modify the put() method to ensure that the backpack does not go over capacity. If the user tries to put in more than max_size items, print “No Room!” and do not add the item to the contents list. \n",
    "### 3. Add a new method called dump() that resets the contents of the backpack to an empty list. This method should not receive any arguments (except self)."
   ]
  },
  {
   "cell_type": "markdown",
   "metadata": {},
   "source": [
    "class Backpack():\n",
    "    \n",
    "    def __init__(self, name, color, max_size=5):\n",
    "        self.name = name\n",
    "        self.color = color\n",
    "        self.max_size = 5\n",
    "        self.contents = []\n",
    "       \n",
    "    def put(self, item):\n",
    "            if self.contents.len(item) > self.max_size:\n",
    "                print('No Room!')\n",
    "            else:\n",
    "                self.contents.append(item)\n",
    "                \n",
    "    def dump(self):\n",
    "        self.contents = []\n",
    "       \n",
    "    testpack = Backpack()\n",
    "    testpack.__init__()\n",
    "    testpack.put()\n",
    "    testpack.dump()\n",
    "                \n",
    "    \"\"\"\n",
    "    Attributes:\n",
    "         name (str): name of the backpack owner.\n",
    "         color (str): color of the backpack owner.\n",
    "         max_size (int): equals to 5 by default.\n",
    "    \"\"\""
   ]
  },
  {
   "cell_type": "markdown",
   "metadata": {},
   "source": [
    "# Problem 2.\n",
    "## Create a Jetpack class that inherits from the Backpack class. \n",
    "### 1. Overwrite the constructor so that in addition to a name, color, and maximum size, it also accepts an amount of fuel. Change the default value of max_size to 2, and set the default value of fuel to 10. Store the fuel as an attribute. \n",
    "### 2. Add a fly() method that accepts an amount of fuel to be burned and decrements the fuel attribute by that amount. If the user tries to burn more fuel than remains, print “Not enough fuel!” and do not decrement the fuel.\n",
    "### 3. Overwrite the dump() method so that both the contents and the fuel tank are emptied."
   ]
  },
  {
   "cell_type": "markdown",
   "metadata": {},
   "source": [
    "class Jetpack(Backpack):\n",
    "\n",
    "    \"\"\"A Jetpack object class. Inherits from the Backpack class.\n",
    "       A Jetpack is smaller than a backpack and can be tied closed.\n",
    "       Attributes:\n",
    "           name (str): the name of the jetpack's owner.\n",
    "           color (str): the color of the jetpack.\n",
    "           max_size (int): the maximum number of items that can fit in the jetpack.\n",
    "           contents (list): the contents of the backpack.\n",
    "           fuel (int): amount of fuel it accepts. \n",
    "           closed (bool): whether or not the jetpack is tied shut.\n",
    "    \"\"\"\n",
    "    \n",
    "    def __init__(self, name, color, max_size=2, fuel=10):\n",
    "        self.max_size = 2\n",
    "        self.fuel = 10\n",
    "        \n",
    "    \"\"\"Use the Backpack constructor to initialize the name, color, and max_size attributes. A jetpack only holds 2 item by default\n",
    "       instead of 3.\n",
    "       Inputs:\n",
    "       name (str): the name of the jetpack's owner.\n",
    "       color (str): the color of the jetpack.\n",
    "       max_size (int): the maximum number of items that can fit in the jetpack. Defaults to 2.\n",
    "       fuel (int): amount of fuel it accepts.\n",
    "       Returns:\n",
    "       A jetpack object with no contents.\n",
    "    \"\"\"\n",
    "    \n",
    "    Backpack.__init__(self, name, color, max_size)\n",
    "    self.closed = True\n",
    "        \n",
    "    def fly(self, fuelburn):\n",
    "            if self.fuelburn < self.fuel:\n",
    "                self.fuel=self.fuel - self.fuelburn\n",
    "            else: \n",
    "                print('Not enough fuel!')\n",
    "                \n",
    "    \"\"\"Inputs:\n",
    "       fuelburn (int): amount of fuel to be burned it accepts.\n",
    "    \"\"\"\n",
    "            \n",
    "    def dump(self):\n",
    "        self.fuel = 0\n",
    "    \n",
    "    Backpack.dump(self):\n",
    "    self.closed = True\n"
   ]
  },
  {
   "cell_type": "code",
   "execution_count": null,
   "metadata": {
    "collapsed": true
   },
   "outputs": [],
   "source": []
  }
 ],
 "metadata": {
  "kernelspec": {
   "display_name": "Python 3",
   "language": "python",
   "name": "python3"
  },
  "language_info": {
   "codemirror_mode": {
    "name": "ipython",
    "version": 3
   },
   "file_extension": ".py",
   "mimetype": "text/x-python",
   "name": "python",
   "nbconvert_exporter": "python",
   "pygments_lexer": "ipython3",
   "version": "3.6.1"
  }
 },
 "nbformat": 4,
 "nbformat_minor": 2
}
