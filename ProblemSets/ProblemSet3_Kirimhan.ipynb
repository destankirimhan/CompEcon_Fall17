{
 "cells": [
  {
   "cell_type": "markdown",
   "metadata": {},
   "source": [
    "# Problem Set 3\n",
    "### 1. Select only male heads of household who are between 25 and 60 years of age and earn wages > \\$ 7"
   ]
  },
  {
   "cell_type": "code",
   "execution_count": 35,
   "metadata": {
    "collapsed": true
   },
   "outputs": [],
   "source": [
    "# import packages\n",
    "import pandas as pd\n",
    "import numpy as np\n",
    "import scipy.optimize as opt\n",
    "import time"
   ]
  },
  {
   "cell_type": "code",
   "execution_count": 36,
   "metadata": {},
   "outputs": [
    {
     "data": {
      "text/html": [
       "<div>\n",
       "<style>\n",
       "    .dataframe thead tr:only-child th {\n",
       "        text-align: right;\n",
       "    }\n",
       "\n",
       "    .dataframe thead th {\n",
       "        text-align: left;\n",
       "    }\n",
       "\n",
       "    .dataframe tbody tr th {\n",
       "        vertical-align: top;\n",
       "    }\n",
       "</style>\n",
       "<table border=\"1\" class=\"dataframe\">\n",
       "  <thead>\n",
       "    <tr style=\"text-align: right;\">\n",
       "      <th></th>\n",
       "      <th>id68</th>\n",
       "      <th>year</th>\n",
       "      <th>intid</th>\n",
       "      <th>relhh</th>\n",
       "      <th>hannhrs</th>\n",
       "      <th>wannhrs</th>\n",
       "      <th>hlabinc</th>\n",
       "      <th>wlabinc</th>\n",
       "      <th>nochild</th>\n",
       "      <th>wrace</th>\n",
       "      <th>...</th>\n",
       "      <th>redpregovinc</th>\n",
       "      <th>hsex</th>\n",
       "      <th>wsex</th>\n",
       "      <th>age</th>\n",
       "      <th>wage</th>\n",
       "      <th>hpersno</th>\n",
       "      <th>wpersno</th>\n",
       "      <th>hyrsed</th>\n",
       "      <th>wyrsed</th>\n",
       "      <th>pce</th>\n",
       "    </tr>\n",
       "  </thead>\n",
       "  <tbody>\n",
       "    <tr>\n",
       "      <th>0</th>\n",
       "      <td>1</td>\n",
       "      <td>1967</td>\n",
       "      <td>1</td>\n",
       "      <td>Head</td>\n",
       "      <td>1200.0</td>\n",
       "      <td>2000.0</td>\n",
       "      <td>NaN</td>\n",
       "      <td>NaN</td>\n",
       "      <td>0</td>\n",
       "      <td>NaN</td>\n",
       "      <td>...</td>\n",
       "      <td>5614.0</td>\n",
       "      <td>1.0</td>\n",
       "      <td>2.0</td>\n",
       "      <td>52.0</td>\n",
       "      <td>46.0</td>\n",
       "      <td>1.0</td>\n",
       "      <td>2.0</td>\n",
       "      <td>8.0</td>\n",
       "      <td>8.0</td>\n",
       "      <td>0.0</td>\n",
       "    </tr>\n",
       "    <tr>\n",
       "      <th>1</th>\n",
       "      <td>2</td>\n",
       "      <td>1967</td>\n",
       "      <td>2</td>\n",
       "      <td>Head</td>\n",
       "      <td>0.0</td>\n",
       "      <td>0.0</td>\n",
       "      <td>NaN</td>\n",
       "      <td>NaN</td>\n",
       "      <td>0</td>\n",
       "      <td>NaN</td>\n",
       "      <td>...</td>\n",
       "      <td>0.0</td>\n",
       "      <td>1.0</td>\n",
       "      <td>2.0</td>\n",
       "      <td>56.0</td>\n",
       "      <td>57.0</td>\n",
       "      <td>1.0</td>\n",
       "      <td>2.0</td>\n",
       "      <td>3.0</td>\n",
       "      <td>3.0</td>\n",
       "      <td>0.0</td>\n",
       "    </tr>\n",
       "    <tr>\n",
       "      <th>2</th>\n",
       "      <td>3</td>\n",
       "      <td>1967</td>\n",
       "      <td>3</td>\n",
       "      <td>Head</td>\n",
       "      <td>0.0</td>\n",
       "      <td>0.0</td>\n",
       "      <td>NaN</td>\n",
       "      <td>NaN</td>\n",
       "      <td>0</td>\n",
       "      <td>NaN</td>\n",
       "      <td>...</td>\n",
       "      <td>0.0</td>\n",
       "      <td>1.0</td>\n",
       "      <td>2.0</td>\n",
       "      <td>77.0</td>\n",
       "      <td>64.0</td>\n",
       "      <td>1.0</td>\n",
       "      <td>2.0</td>\n",
       "      <td>NaN</td>\n",
       "      <td>3.0</td>\n",
       "      <td>0.0</td>\n",
       "    </tr>\n",
       "    <tr>\n",
       "      <th>3</th>\n",
       "      <td>4</td>\n",
       "      <td>1967</td>\n",
       "      <td>4</td>\n",
       "      <td>Head</td>\n",
       "      <td>1560.0</td>\n",
       "      <td>0.0</td>\n",
       "      <td>NaN</td>\n",
       "      <td>NaN</td>\n",
       "      <td>6</td>\n",
       "      <td>1.0</td>\n",
       "      <td>...</td>\n",
       "      <td>3280.0</td>\n",
       "      <td>1.0</td>\n",
       "      <td>2.0</td>\n",
       "      <td>45.0</td>\n",
       "      <td>44.0</td>\n",
       "      <td>1.0</td>\n",
       "      <td>2.0</td>\n",
       "      <td>8.0</td>\n",
       "      <td>5.0</td>\n",
       "      <td>0.0</td>\n",
       "    </tr>\n",
       "    <tr>\n",
       "      <th>4</th>\n",
       "      <td>5</td>\n",
       "      <td>1967</td>\n",
       "      <td>5</td>\n",
       "      <td>Head</td>\n",
       "      <td>2500.0</td>\n",
       "      <td>2000.0</td>\n",
       "      <td>NaN</td>\n",
       "      <td>NaN</td>\n",
       "      <td>3</td>\n",
       "      <td>1.0</td>\n",
       "      <td>...</td>\n",
       "      <td>7900.0</td>\n",
       "      <td>1.0</td>\n",
       "      <td>2.0</td>\n",
       "      <td>24.0</td>\n",
       "      <td>22.0</td>\n",
       "      <td>1.0</td>\n",
       "      <td>2.0</td>\n",
       "      <td>10.0</td>\n",
       "      <td>9.0</td>\n",
       "      <td>0.0</td>\n",
       "    </tr>\n",
       "  </tbody>\n",
       "</table>\n",
       "<p>5 rows × 52 columns</p>\n",
       "</div>"
      ],
      "text/plain": [
       "   id68  year  intid relhh  hannhrs  wannhrs  hlabinc  wlabinc  nochild  \\\n",
       "0     1  1967      1  Head   1200.0   2000.0      NaN      NaN        0   \n",
       "1     2  1967      2  Head      0.0      0.0      NaN      NaN        0   \n",
       "2     3  1967      3  Head      0.0      0.0      NaN      NaN        0   \n",
       "3     4  1967      4  Head   1560.0      0.0      NaN      NaN        6   \n",
       "4     5  1967      5  Head   2500.0   2000.0      NaN      NaN        3   \n",
       "\n",
       "   wrace ...   redpregovinc  hsex  wsex   age  wage  hpersno  wpersno  hyrsed  \\\n",
       "0    NaN ...         5614.0   1.0   2.0  52.0  46.0      1.0      2.0     8.0   \n",
       "1    NaN ...            0.0   1.0   2.0  56.0  57.0      1.0      2.0     3.0   \n",
       "2    NaN ...            0.0   1.0   2.0  77.0  64.0      1.0      2.0     NaN   \n",
       "3    1.0 ...         3280.0   1.0   2.0  45.0  44.0      1.0      2.0     8.0   \n",
       "4    1.0 ...         7900.0   1.0   2.0  24.0  22.0      1.0      2.0    10.0   \n",
       "\n",
       "   wyrsed  pce  \n",
       "0     8.0  0.0  \n",
       "1     3.0  0.0  \n",
       "2     3.0  0.0  \n",
       "3     5.0  0.0  \n",
       "4     9.0  0.0  \n",
       "\n",
       "[5 rows x 52 columns]"
      ]
     },
     "execution_count": 36,
     "metadata": {},
     "output_type": "execute_result"
    }
   ],
   "source": [
    "# Read in the data\n",
    "ps3_data = pd.read_stata('PS3_data.dta')\n",
    "ps3_data.head(n=5)"
   ]
  },
  {
   "cell_type": "code",
   "execution_count": 37,
   "metadata": {
    "collapsed": true
   },
   "outputs": [],
   "source": [
    "# Drop missing data points for income and hours and where hours =0\n",
    "ps3_data = ps3_data[(ps3_data.hlabinc.isnull() != True ) & (ps3_data.hannhrs.isnull() != True ) & (ps3_data.hannhrs > 0)]"
   ]
  },
  {
   "cell_type": "code",
   "execution_count": 38,
   "metadata": {
    "collapsed": true
   },
   "outputs": [],
   "source": [
    "# Drop missing data points for education and age and race\n",
    "ps3_data = ps3_data[(ps3_data.hyrsed.isnull() != True) & (ps3_data.age.isnull() != True) & (ps3_data.hrace.isnull() != True)]"
   ]
  },
  {
   "cell_type": "code",
   "execution_count": 39,
   "metadata": {
    "collapsed": true
   },
   "outputs": [],
   "source": [
    "# Define wage per hour\n",
    "ps3_data['wageperhour'] = ps3_data['hlabinc'] / ps3_data['hannhrs'] \n",
    "\n",
    "# Define log of wage per hour\n",
    "ps3_data['lnwage'] = np.log(ps3_data['wageperhour'])"
   ]
  },
  {
   "cell_type": "code",
   "execution_count": 40,
   "metadata": {},
   "outputs": [],
   "source": [
    "# Pick only male heads of household who are between 25 and 60 years old and earn wages > $7/hr\n",
    "ps3_data = ps3_data[(ps3_data.hsex ==1 ) & (ps3_data.age >= 25) & (ps3_data.age <= 60) & (ps3_data.wageperhour > 7)]"
   ]
  },
  {
   "cell_type": "markdown",
   "metadata": {},
   "source": [
    "### 2. Create indicator and continuous variables as necessary."
   ]
  },
  {
   "cell_type": "code",
   "execution_count": 41,
   "metadata": {},
   "outputs": [],
   "source": [
    "# Create three dummy variables each for black, hispanic and other race. 1 means true, 0 means false\n",
    "ps3_data['Black'] = ps3_data.loc[:,'hrace'].apply(lambda x : 1 if x == 2 else 0)\n",
    "ps3_data['Hispanic'] = ps3_data.loc[:,'hrace'].apply(lambda x : 1 if x == 5 else 0)\n",
    "ps3_data['OtherRace'] = ps3_data.loc[:,'hrace'].apply(lambda x : 1 if x == 3 or x == 4 or x == 6 or x == 7 else 0)"
   ]
  },
  {
   "cell_type": "markdown",
   "metadata": {},
   "source": [
    "### 3. Estimate the following model via a Maximum Likelihood Estimator separately for t = 1971, 1980, 1990, 2000:"
   ]
  },
  {
   "cell_type": "code",
   "execution_count": 47,
   "metadata": {
    "collapsed": true
   },
   "outputs": [],
   "source": [
    "# Defining the constant term and entering in year variable. I changed this variable for 1971, 1980, 1990 and 2000 each time\n",
    "# and started running to code from the first line. \n",
    "ps3_data['constant'] = 1\n",
    "ps3_data = ps3_data[(ps3_data['year'] == 2000)]"
   ]
  },
  {
   "cell_type": "code",
   "execution_count": 45,
   "metadata": {
    "collapsed": true
   },
   "outputs": [],
   "source": [
    "# Under the nomrally distributed error terms assumption, the log-likelihood function is defined as below:\n",
    "def loglike(params, x, y):\n",
    "    \n",
    "    beta = np.array([[params[0]], [params[1]], [params[2]], [params[3]], [params[4]]], dtype = np.float64)\n",
    "    \n",
    "    x = np.array([ps3_data['constant'], ps3_data['hyrsed'], ps3_data['age'], \n",
    "                  ps3_data['Black'], ps3_data['OtherRace']]).T\n",
    "    \n",
    "    y = np.array([ps3_data['lnwage']]).T\n",
    "      \n",
    "    sigma = 2\n",
    "    \n",
    "    params = [alpha, beta1, beta2, beta3, beta5]\n",
    "    \n",
    "    log_like = (- (-(1 / 2) * len(ps3_data.index) * np.log(2 * (np.pi)) - len(ps3_data.index) * np.log(sigma) - \n",
    "                  (1 / 2) * np.dot((y - np.dot(x, beta)).T, y - np.dot(x, beta)) / ((sigma) ** 2))).item((0,0))\n",
    "    \n",
    "    return log_like"
   ]
  },
  {
   "cell_type": "code",
   "execution_count": 46,
   "metadata": {},
   "outputs": [
    {
     "data": {
      "text/plain": [
       " final_simplex: (array([[ 1.16169058,  0.10915437,  0.01099353, -0.24604485, -0.06073224],\n",
       "       [ 1.16169058,  0.10915437,  0.01099353, -0.24604485, -0.06073224],\n",
       "       [ 1.16169058,  0.10915437,  0.01099353, -0.24604485, -0.06073224],\n",
       "       [ 1.16169058,  0.10915437,  0.01099353, -0.24604485, -0.06073224],\n",
       "       [ 1.16169058,  0.10915437,  0.01099353, -0.24604485, -0.06073224],\n",
       "       [ 1.16169058,  0.10915437,  0.01099353, -0.24604485, -0.06073224]]), array([ 4253.06800934,  4253.06800934,  4253.06800934,  4253.06800934,\n",
       "        4253.06800934,  4253.06800934]))\n",
       "           fun: 4253.0680093370647\n",
       "       message: 'Optimization terminated successfully.'\n",
       "          nfev: 1211\n",
       "           nit: 686\n",
       "        status: 0\n",
       "       success: True\n",
       "             x: array([ 1.16169058,  0.10915437,  0.01099353, -0.24604485, -0.06073224])"
      ]
     },
     "execution_count": 46,
     "metadata": {},
     "output_type": "execute_result"
    }
   ],
   "source": [
    "# Initial guesses for the parameter values\n",
    "alpha, beta1, beta2, beta3, beta5 = 0.1, -0.1, 0.2, -0.1, 0.5\n",
    "params = [alpha, beta1, beta2, beta3, beta5]\n",
    "params_initial = (0.3, -0.5, 0.6, -0.3, 0.8)\n",
    "\n",
    "\n",
    "# Seting boundaries for the parameters\n",
    "bnds = ([-np.inf, -np.inf, -np.inf, -np.inf, -np.inf],\n",
    "        [np.inf, np.inf, np.inf, np.inf, np.inf])\n",
    "\n",
    "# Employing minimize function to minimize the minus log-likelihood function\n",
    "mle_results = opt.minimize(loglike, params_initial, args=(ps3_data,params),\n",
    "                           method='Nelder-Mead', tol = 1e-12, options={'maxiter': 5000})\n",
    "\n",
    "mle_results"
   ]
  },
  {
   "cell_type": "markdown",
   "metadata": {},
   "source": [
    "### 4. Interpret the coefficient beta 1. How do the returns to education change over time in these data?"
   ]
  },
  {
   "cell_type": "markdown",
   "metadata": {},
   "source": [
    "#### This coefficient is the returns on education holding all the other variables constant. If one gets one more year of education, the percentage change in his/her wage will be 100*Beta1.\n",
    "\n",
    "#### For year 1971, beta1=0.0669 so, if one gets one more year of education, his/her wage will increase by 6.69%.\n",
    "\n",
    "#### For year 1980, beta1= 0.0676 so, if one gets one more year of education, his/her wage will increase by 6.76%.\n",
    "\n",
    "#### For year 1990, beta1= 0.0976 so, if one gets one more year of education, his/her wage will increase by 9.76%.\n",
    "\n",
    "#### For year 2000, beta1= 0.1092 so, if one gets one more year of education, his/her wage will increase by 10.92%.\n",
    "\n",
    "#### Therefore, the returns on education increases over time. "
   ]
  },
  {
   "cell_type": "code",
   "execution_count": null,
   "metadata": {
    "collapsed": true
   },
   "outputs": [],
   "source": []
  }
 ],
 "metadata": {
  "kernelspec": {
   "display_name": "Python 3",
   "language": "python",
   "name": "python3"
  },
  "language_info": {
   "codemirror_mode": {
    "name": "ipython",
    "version": 3
   },
   "file_extension": ".py",
   "mimetype": "text/x-python",
   "name": "python",
   "nbconvert_exporter": "python",
   "pygments_lexer": "ipython3",
   "version": "3.6.1"
  }
 },
 "nbformat": 4,
 "nbformat_minor": 2
}
